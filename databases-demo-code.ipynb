{
 "cells": [
  {
   "cell_type": "markdown",
   "id": "obvious-compromise",
   "metadata": {},
   "source": [
    "# SQLite Demo"
   ]
  },
  {
   "cell_type": "markdown",
   "id": "prepared-salad",
   "metadata": {},
   "source": [
    "## Establish connection to database"
   ]
  },
  {
   "cell_type": "code",
   "execution_count": 3,
   "id": "spare-accent",
   "metadata": {},
   "outputs": [
    {
     "name": "stdout",
     "output_type": "stream",
     "text": [
      "<sqlite3.Connection object at 0x7f8ce915e8a0>\n",
      "<sqlite3.Cursor object at 0x7f8cc83e3500>\n"
     ]
    }
   ],
   "source": [
    "import sqlite3\n",
    "conn = sqlite3.connect(\"trial.sql\")\n",
    "print(conn)\n",
    "cursor = conn.cursor()\n",
    "print(cursor)"
   ]
  },
  {
   "cell_type": "markdown",
   "id": "15d7b870",
   "metadata": {},
   "source": [
    "# TA Example"
   ]
  },
  {
   "cell_type": "code",
   "execution_count": 15,
   "id": "cc3dc812",
   "metadata": {},
   "outputs": [
    {
     "ename": "OperationalError",
     "evalue": "table Profs already exists",
     "output_type": "error",
     "traceback": [
      "\u001b[0;31m---------------------------------------------------------------------------\u001b[0m",
      "\u001b[0;31mOperationalError\u001b[0m                          Traceback (most recent call last)",
      "\u001b[0;32m/var/folders/kp/1fygxv_d45n8s1s4vwm7snz40000gn/T/ipykernel_72888/2231259595.py\u001b[0m in \u001b[0;36m<module>\u001b[0;34m\u001b[0m\n\u001b[1;32m      3\u001b[0m \u001b[0;34m\u001b[0m\u001b[0m\n\u001b[1;32m      4\u001b[0m \u001b[0;31m# Creates tables TAs and Profs\u001b[0m\u001b[0;34m\u001b[0m\u001b[0;34m\u001b[0m\u001b[0;34m\u001b[0m\u001b[0m\n\u001b[0;32m----> 5\u001b[0;31m cursor.executescript('''\n\u001b[0m\u001b[1;32m      6\u001b[0m CREATE TABLE TAs (\n\u001b[1;32m      7\u001b[0m     \u001b[0mandrewID\u001b[0m \u001b[0mTEXT\u001b[0m \u001b[0mPRIMARY\u001b[0m \u001b[0mKEY\u001b[0m \u001b[0mUNIQUE\u001b[0m \u001b[0mNOT\u001b[0m \u001b[0mNULL\u001b[0m\u001b[0;34m,\u001b[0m\u001b[0;34m\u001b[0m\u001b[0;34m\u001b[0m\u001b[0m\n",
      "\u001b[0;31mOperationalError\u001b[0m: table Profs already exists"
     ]
    }
   ],
   "source": [
    "# Deletes the table Tracks if that exists\n",
    "cursor.execute(\"DROP TABLE  IF EXISTS TAs\")\n",
    "\n",
    "# Creates tables TAs and Profs\n",
    "cursor.executescript('''\n",
    "CREATE TABLE TAs (\n",
    "    andrewID TEXT PRIMARY KEY UNIQUE NOT NULL,\n",
    "    name TEXT,\n",
    "    age INTEGER,\n",
    "    major TEXT,\n",
    "    department TEXT\n",
    ") ;\n",
    "\n",
    "CREATE TABLE IF NOT EXISTS Profs (\n",
    "    andrewID TEXT PRIMARY KEY UNIQUE NOT NULL,\n",
    "    name TEXT,\n",
    "    classCode TEXT,\n",
    "    department TEXT\n",
    ")\n",
    "''')\n",
    "conn.commit()"
   ]
  },
  {
   "cell_type": "markdown",
   "id": "difficult-skiing",
   "metadata": {},
   "source": [
    "## Insert data into table"
   ]
  },
  {
   "cell_type": "code",
   "execution_count": 17,
   "id": "alpine-mozambique",
   "metadata": {},
   "outputs": [],
   "source": [
    "cursor.execute(\"INSERT OR IGNORE INTO TAs (andrewID, name, age, major, department) VALUES ('mbirlikc', 'Deniz', 20, 'Artificial Intelligence', 'SCS')\")\n",
    "cursor.execute(\"INSERT OR IGNORE INTO TAs (andrewID, name, age, major, department) VALUES ('ayoun2', 'Andrew', 19, 'Mechanical Engineering', 'CIT')\")\n",
    "cursor.execute(\"INSERT OR IGNORE INTO TAs (andrewID, name, age, major, department) VALUES ('wzha', 'Winston', 19, 'CS & Business Double Major', 'Tepper & SCS')\")\n",
    "cursor.execute(\"INSERT OR IGNORE INTO TAs (andrewID, name, age, major, department) VALUES ('william', 'William', 19, 'Computer Science', 'SCS')\")\n",
    "cursor.execute(\"INSERT OR IGNORE INTO TAs (andrewID, name, age, major, department) VALUES ('skocabalk', 'Sedef', 20, 'Computer Science', 'SCS')\")\n",
    "conn.commit()"
   ]
  },
  {
   "cell_type": "markdown",
   "id": "d76c244a",
   "metadata": {},
   "source": [
    "## [IMPORTANT] What if we do not know what the value is? What if it is a variable instead?"
   ]
  },
  {
   "cell_type": "code",
   "execution_count": 13,
   "id": "4c390544",
   "metadata": {},
   "outputs": [],
   "source": [
    "deniz = {\n",
    "    \"andrewID\" : \"mbirlikc\",\n",
    "    \"name\" : \"Deniz Birlikci\",\n",
    "    \"age\" : \"20\",\n",
    "    \"major\" : \"Artificial Intelligence\",\n",
    "    \"department\" : \"SCS\"\n",
    "}\n",
    "\n",
    "andrew = {\n",
    "    \"andrewID\" : \"ayoun2\",\n",
    "    \"name\" : \"Andrew Youn\",\n",
    "    \"age\" : \"20\",\n",
    "    \"major\" : \"Mechanical Engineering\",\n",
    "    \"department\" : \"CIT\"\n",
    "}\n",
    "\n",
    "# Example for entering data into the table\n",
    "cursor.execute('''INSERT OR REPLACE INTO TAs \n",
    "        (andrewID, name, age, major, department) \n",
    "        VALUES ( ?, ?, ?, ?, ? )''', \n",
    "        (deniz[\"andrewID\"], deniz[\"name\"], deniz[\"age\"], deniz[\"major\"], deniz[\"department\"]))\n",
    "\n",
    "# Why do we do the VALUES ( ?, ?, ?, ?, ? ) method? Becuase\n",
    "# our values can be changing and we are better off with vorking with variables\n",
    "\n",
    "# We can also use format strings to achieve the same purpose\n",
    "searchedAndrewID = \"mbirlikc\"\n",
    "cursor.execute(\"\"\"SELECT * FROM TAs WHERE andrewID = (?)\"\"\", (searchedAndrewID,))\n",
    "conn.commit()"
   ]
  },
  {
   "cell_type": "markdown",
   "id": "1e6727aa",
   "metadata": {},
   "source": [
    "## So ... Format Strings & (?, ?, ?), (val1, val2, val3) Format is your BEST FRIEND!!!"
   ]
  },
  {
   "cell_type": "markdown",
   "id": "6a4c3e40",
   "metadata": {},
   "source": [
    "# What happens if you try to write Duplicate Table or Duplicate Entries?"
   ]
  },
  {
   "cell_type": "markdown",
   "id": "0ce2b004",
   "metadata": {},
   "source": [
    "You will get an error. \n",
    "\n",
    "To prevent that from happening, you have to be a little more careful and specific about what you want.\n",
    "\n",
    "Say your program wishes to enter the same andrewID again...\n",
    "\n",
    "    1 - If this is just to update the value, you can write\n",
    "        \"INSERT OR REPLACE INTO ... \"\n",
    "    2 - If you want to just stick with the first entry, and ingore any following, you can write\n",
    "        \"INSERT OR INGORE INTO ... \"\n",
    "\n",
    "Say you want to create a new table. \n",
    "\n",
    "Just saying \"CREATE TABLE ...\" can lead to problems when that table already exists. \n",
    "\n",
    "What you can write instead would be:\n",
    "\n",
    "    - \"CREATE TABLE IF NOT EXISTS ... \""
   ]
  },
  {
   "cell_type": "markdown",
   "id": "087e63a7",
   "metadata": {},
   "source": [
    "### Let's Revisit why our first create table code did not fail"
   ]
  },
  {
   "cell_type": "code",
   "execution_count": 43,
   "id": "0f235501",
   "metadata": {},
   "outputs": [
    {
     "data": {
      "text/plain": [
       "<sqlite3.Cursor at 0x7f9e811f3490>"
      ]
     },
     "execution_count": 43,
     "metadata": {},
     "output_type": "execute_result"
    }
   ],
   "source": [
    "\n",
    "\n",
    "# BEFORE CREATING TABLE TAs IT DELETES THE TABLE IF IT ALREADY EXISTS\n",
    "cursor.execute(\"DROP TABLE IF EXISTS TAs\")\n",
    "\n",
    "# Creates tables TAs and Profs\n",
    "cursor.executescript('''\n",
    "CREATE TABLE TAs (\n",
    "    andrewID TEXT PRIMARY KEY UNIQUE NOT NULL,\n",
    "    name TEXT,\n",
    "    age INTEGER,\n",
    "    major TEXT,\n",
    "    department TEXT\n",
    ") ;\n",
    "\n",
    "CREATE TABLE IF NOT EXISTS Profs (\n",
    "    andrewID TEXT PRIMARY KEY UNIQUE NOT NULL,\n",
    "    name TEXT,\n",
    "    classCode TEXT,\n",
    "    department TEXT\n",
    ")\n",
    "''')\n",
    "\n",
    "# IN THE PROFS EXAMPLE, WE HAVE THE 'IF NOT EXISTS' FLAG WHICH \n",
    "# CREATES THE TABLE ONLY IF IT NOT EXISTS"
   ]
  },
  {
   "cell_type": "markdown",
   "id": "unlimited-trick",
   "metadata": {},
   "source": [
    "## Read data from table"
   ]
  },
  {
   "cell_type": "markdown",
   "id": "c87537cd",
   "metadata": {},
   "source": [
    "Components Included\n",
    "\n",
    "    1 - The select statement\n",
    "    2 - fetchall() and fetchone() methods\n",
    "    3 - Iterating through result\n",
    "    4 - Where clause"
   ]
  },
  {
   "cell_type": "markdown",
   "id": "607efd20",
   "metadata": {},
   "source": [
    "## Select, fetchall, and fetchone"
   ]
  },
  {
   "cell_type": "code",
   "execution_count": 23,
   "id": "synthetic-milan",
   "metadata": {},
   "outputs": [
    {
     "name": "stdout",
     "output_type": "stream",
     "text": [
      "Result of fetchone ('mbirlikc', 'Deniz', 20, 'Artificial Intelligence', 'SCS')\n",
      "Result of fetchall [('ayoun2', 'Andrew', 19, 'Mechanical Engineering', 'CIT'), ('wzha', 'Winston', 19, 'CS & Business Double Major', 'Tepper & SCS'), ('william', 'William', 19, 'Computer Science', 'SCS'), ('skocabalk', 'Sedef', 20, 'Computer Science', 'SCS')]\n",
      "('ayoun2', 'Andrew', 19, 'Mechanical Engineering', 'CIT')\n",
      "('wzha', 'Winston', 19, 'CS & Business Double Major', 'Tepper & SCS')\n",
      "('william', 'William', 19, 'Computer Science', 'SCS')\n",
      "('skocabalk', 'Sedef', 20, 'Computer Science', 'SCS')\n"
     ]
    }
   ],
   "source": [
    "cursor.execute(\"SELECT * FROM TAs\")\n",
    "# singleList = cursor.fetchone()\n",
    "dataList = cursor.fetchall()\n",
    "# print(\"Result of fetchone\", singleList)\n",
    "print(\"Result of fetchall\", dataList)\n",
    "for row in dataList:\n",
    "    print(row)"
   ]
  },
  {
   "cell_type": "markdown",
   "id": "weekly-freeze",
   "metadata": {},
   "source": [
    "## WHERE clause\n",
    "The WHERE clause is used to filter records. You can use it to extract only those records that fulfill the specified condition. Conditions can be defined using arithmetic operators and BETWEEN, LIKE, and IN."
   ]
  },
  {
   "cell_type": "code",
   "execution_count": 26,
   "id": "attached-chester",
   "metadata": {},
   "outputs": [
    {
     "name": "stdout",
     "output_type": "stream",
     "text": [
      "('mbirlikc', 'Deniz', 20, 'Artificial Intelligence', 'SCS')\n",
      "('ayoun2', 'Andrew', 19, 'Mechanical Engineering', 'CIT')\n",
      "('wzha', 'Winston', 19, 'CS & Business Double Major', 'Tepper & SCS')\n",
      "('william', 'William', 19, 'Computer Science', 'SCS')\n",
      "('skocabalk', 'Sedef', 20, 'Computer Science', 'SCS')\n"
     ]
    }
   ],
   "source": [
    "coolPeople = cursor.execute(\"SELECT * FROM TAs WHERE age > 18\")\n",
    "for row in coolPeople:\n",
    "    print(row)"
   ]
  },
  {
   "cell_type": "code",
   "execution_count": 27,
   "id": "594832f5",
   "metadata": {},
   "outputs": [
    {
     "name": "stdout",
     "output_type": "stream",
     "text": [
      "('mbirlikc', 'Deniz', 20, 'Artificial Intelligence', 'SCS')\n",
      "('ayoun2', 'Andrew', 19, 'Mechanical Engineering', 'CIT')\n",
      "('wzha', 'Winston', 19, 'CS & Business Double Major', 'Tepper & SCS')\n",
      "('william', 'William', 19, 'Computer Science', 'SCS')\n",
      "('skocabalk', 'Sedef', 20, 'Computer Science', 'SCS')\n"
     ]
    }
   ],
   "source": [
    "ageLimit = 18\n",
    "\n",
    "votingPeople = cursor.execute(\"SELECT * FROM TAs WHERE age >= {}\".format(ageLimit))\n",
    "for row in votingPeople:\n",
    "    print(row)\n"
   ]
  },
  {
   "cell_type": "markdown",
   "id": "placed-prompt",
   "metadata": {},
   "source": [
    "## ORDER BY clause"
   ]
  },
  {
   "cell_type": "code",
   "execution_count": 29,
   "id": "furnished-judgment",
   "metadata": {},
   "outputs": [
    {
     "name": "stdout",
     "output_type": "stream",
     "text": [
      "oldest to youngest\n",
      "('mbirlikc', 'Deniz', 20, 'Artificial Intelligence', 'SCS')\n",
      "('skocabalk', 'Sedef', 20, 'Computer Science', 'SCS')\n",
      "('ayoun2', 'Andrew', 19, 'Mechanical Engineering', 'CIT')\n",
      "('wzha', 'Winston', 19, 'CS & Business Double Major', 'Tepper & SCS')\n",
      "('william', 'William', 19, 'Computer Science', 'SCS')\n",
      "youngest to oldest\n",
      "('william', 'William', 19, 'Computer Science', 'SCS')\n",
      "('mbirlikc', 'Deniz', 20, 'Artificial Intelligence', 'SCS')\n",
      "('skocabalk', 'Sedef', 20, 'Computer Science', 'SCS')\n"
     ]
    }
   ],
   "source": [
    "print(\"oldest to youngest\")\n",
    "oldestFirst = cursor.execute(\"SELECT * FROM TAs ORDER BY age DESC\") #ASC means ascending\n",
    "for row in oldestFirst:\n",
    "    print(row)\n",
    "\n",
    "print(\"youngest to oldest\")\n",
    "youngestFirst = cursor.execute(\"SELECT * FROM TAs WHERE department = 'SCS' ORDER BY age ASC\") #DESC means descending\n",
    "for row in youngestFirst:\n",
    "    print(row)\n",
    "    "
   ]
  },
  {
   "cell_type": "markdown",
   "id": "aquatic-short",
   "metadata": {},
   "source": [
    "## Fun operations: MIN/MAX, COUNT, AVG, SUM"
   ]
  },
  {
   "cell_type": "code",
   "execution_count": 33,
   "id": "theoretical-messenger",
   "metadata": {},
   "outputs": [
    {
     "name": "stdout",
     "output_type": "stream",
     "text": [
      "(19,)\n"
     ]
    }
   ],
   "source": [
    "oldest = cursor.execute(\"SELECT MIN(age) FROM TAs\")\n",
    "oldest = cursor.fetchone()\n",
    "print(oldest)"
   ]
  },
  {
   "cell_type": "code",
   "execution_count": 34,
   "id": "former-report",
   "metadata": {},
   "outputs": [
    {
     "name": "stdout",
     "output_type": "stream",
     "text": [
      "(5,)\n"
     ]
    }
   ],
   "source": [
    "numParticipants = cursor.execute(\"SELECT COUNT(department) FROM TAs\")\n",
    "for row in numParticipants:\n",
    "    print(row)"
   ]
  },
  {
   "cell_type": "code",
   "execution_count": 35,
   "id": "altered-experiment",
   "metadata": {},
   "outputs": [
    {
     "name": "stdout",
     "output_type": "stream",
     "text": [
      "(19.4,)\n"
     ]
    }
   ],
   "source": [
    "avgAge = cursor.execute(\"SELECT AVG(age) FROM TAs\")\n",
    "for row in avgAge:\n",
    "    print(row)"
   ]
  },
  {
   "cell_type": "code",
   "execution_count": 36,
   "id": "silver-floating",
   "metadata": {},
   "outputs": [
    {
     "name": "stdout",
     "output_type": "stream",
     "text": [
      "(97,)\n"
     ]
    }
   ],
   "source": [
    "sumAge = cursor.execute(\"SELECT SUM(age) FROM TAs\")\n",
    "for row in sumAge:\n",
    "    print(row)"
   ]
  }
 ],
 "metadata": {
  "kernelspec": {
   "display_name": "Python 3",
   "language": "python",
   "name": "python3"
  },
  "language_info": {
   "codemirror_mode": {
    "name": "ipython",
    "version": 3
   },
   "file_extension": ".py",
   "mimetype": "text/x-python",
   "name": "python",
   "nbconvert_exporter": "python",
   "pygments_lexer": "ipython3",
   "version": "3.9.1"
  }
 },
 "nbformat": 4,
 "nbformat_minor": 5
}
